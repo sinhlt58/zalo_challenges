{
 "cells": [
  {
   "cell_type": "code",
   "execution_count": 1,
   "metadata": {},
   "outputs": [],
   "source": [
    "%load_ext autoreload\n",
    "%autoreload 2\n",
    "\n",
    "import tensorflow as tf\n",
    "from dataset import Dataset\n",
    "from models import AttentiveReader"
   ]
  },
  {
   "cell_type": "code",
   "execution_count": 2,
   "metadata": {},
   "outputs": [
    {
     "name": "stdout",
     "output_type": "stream",
     "text": [
      "train_questions length: 11518\n",
      "train_paragraphs length: 11518\n",
      "test_questions length: 2678\n",
      "test_paragraphs length: 2678\n",
      "train_labels length: 11518\n"
     ]
    }
   ],
   "source": [
    "qna_dataset = Dataset.from_json(method=\"normal\")\n",
    "qna_dataset.summary()\n",
    "\n",
    "train_questions, train_paragraphs, train_labels, \\\n",
    "dev_questions, dev_paragraphs, dev_labels, = qna_dataset.get_sample(debug=False)"
   ]
  },
  {
   "cell_type": "code",
   "execution_count": 3,
   "metadata": {},
   "outputs": [
    {
     "data": {
      "text/plain": [
       "(TensorShape([64, 200]), TensorShape([64, 200]), TensorShape([64]))"
      ]
     },
     "execution_count": 3,
     "metadata": {},
     "output_type": "execute_result"
    }
   ],
   "source": [
    "dataset = tf.data.Dataset.from_tensor_slices((train_questions, train_paragraphs, train_labels))\n",
    "\n",
    "BATCH_SIZE = 64\n",
    "steps_per_epoch = len(train_questions) // BATCH_SIZE\n",
    "\n",
    "dataset = dataset.batch(BATCH_SIZE, drop_remainder=True)\n",
    "\n",
    "example_questions, example_paragraphs, example_labels = next(iter(dataset))\n",
    "example_questions.shape, example_paragraphs.shape, example_labels.shape"
   ]
  },
  {
   "cell_type": "code",
   "execution_count": 4,
   "metadata": {},
   "outputs": [],
   "source": [
    "vocab_size = len(qna_dataset.vocab)\n",
    "embedding_dim = 200\n",
    "q_units = 128\n",
    "p_units = 128\n",
    "\n",
    "attentive_reader = AttentiveReader(\n",
    "    vocab_size=vocab_size,\n",
    "    embedding_dim=embedding_dim,\n",
    "    q_units=q_units,\n",
    "    p_units=p_units,\n",
    "    batch_size=BATCH_SIZE,\n",
    ")\n",
    "\n"
   ]
  },
  {
   "cell_type": "code",
   "execution_count": null,
   "metadata": {},
   "outputs": [],
   "source": [
    "tf.test.is_gpu_available()\n",
    "\n",
    "sample_output = attentive_reader(example_questions, example_paragraphs)"
   ]
  },
  {
   "cell_type": "code",
   "execution_count": null,
   "metadata": {},
   "outputs": [],
   "source": []
  }
 ],
 "metadata": {
  "kernelspec": {
   "display_name": "Python 3",
   "language": "python",
   "name": "python3"
  },
  "language_info": {
   "codemirror_mode": {
    "name": "ipython",
    "version": 3
   },
   "file_extension": ".py",
   "mimetype": "text/x-python",
   "name": "python",
   "nbconvert_exporter": "python",
   "pygments_lexer": "ipython3",
   "version": "3.6.8"
  }
 },
 "nbformat": 4,
 "nbformat_minor": 2
}
